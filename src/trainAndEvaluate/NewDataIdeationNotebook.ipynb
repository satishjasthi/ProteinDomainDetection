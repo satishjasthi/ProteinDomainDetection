{
 "cells": [
  {
   "cell_type": "code",
   "execution_count": 4,
   "metadata": {},
   "outputs": [
    {
     "ename": "AssertionError",
     "evalue": "3, 1",
     "output_type": "error",
     "traceback": [
      "\u001b[0;31m---------------------------------------------------------------------------\u001b[0m",
      "\u001b[0;31mAssertionError\u001b[0m                            Traceback (most recent call last)",
      "\u001b[0;32m<ipython-input-4-87361b0a0c19>\u001b[0m in \u001b[0;36m<module>\u001b[0;34m()\u001b[0m\n\u001b[1;32m     20\u001b[0m     \u001b[0;32mfor\u001b[0m \u001b[0macid_\u001b[0m\u001b[0;34m,\u001b[0m \u001b[0mmag_\u001b[0m \u001b[0;32min\u001b[0m \u001b[0mamino_acid_magnitude\u001b[0m\u001b[0;34m.\u001b[0m\u001b[0mitems\u001b[0m\u001b[0;34m(\u001b[0m\u001b[0;34m)\u001b[0m\u001b[0;34m:\u001b[0m\u001b[0;34m\u001b[0m\u001b[0;34m\u001b[0m\u001b[0m\n\u001b[1;32m     21\u001b[0m         \u001b[0;32mif\u001b[0m \u001b[0macid\u001b[0m\u001b[0;34m!=\u001b[0m\u001b[0macid_\u001b[0m\u001b[0;34m:\u001b[0m\u001b[0;34m\u001b[0m\u001b[0;34m\u001b[0m\u001b[0m\n\u001b[0;32m---> 22\u001b[0;31m             \u001b[0;32massert\u001b[0m \u001b[0mabs\u001b[0m\u001b[0;34m(\u001b[0m\u001b[0mmag\u001b[0m \u001b[0;34m-\u001b[0m \u001b[0mmag_\u001b[0m\u001b[0;34m)\u001b[0m\u001b[0;34m>\u001b[0m\u001b[0;36m4\u001b[0m\u001b[0;34m,\u001b[0m \u001b[0;34mf\"{mag}, {mag_}\"\u001b[0m\u001b[0;34m\u001b[0m\u001b[0;34m\u001b[0m\u001b[0m\n\u001b[0m\u001b[1;32m     23\u001b[0m \u001b[0mset\u001b[0m\u001b[0;34m(\u001b[0m\u001b[0mamino_acid_magnitude\u001b[0m\u001b[0;34m.\u001b[0m\u001b[0mvalues\u001b[0m\u001b[0;34m(\u001b[0m\u001b[0;34m)\u001b[0m\u001b[0;34m)\u001b[0m\u001b[0;34m\u001b[0m\u001b[0;34m\u001b[0m\u001b[0m\n",
      "\u001b[0;31mAssertionError\u001b[0m: 3, 1"
     ]
    }
   ],
   "source": [
    "from PIL import Image\n",
    "import numpy as np\n",
    "import string, random\n",
    "import pandas as pd\n",
    "\n",
    "amino_acid_magnitude = {acid:0 for acid in string.ascii_uppercase}\n",
    "amp_range = list(range(0,255))\n",
    "for acid in string.ascii_uppercase:\n",
    "    #print(f\"Searching mag for acid :{acid}\")\n",
    "    check_count = 0\n",
    "    while check_count < len(string.ascii_letters):\n",
    "        amino_acid_magnitude[acid] = random.choice(amp_range)\n",
    "        for acid_, mag in amino_acid_magnitude.items():\n",
    "            if acid_!=acid:\n",
    "                if abs(mag-amino_acid_magnitude[acid])>4:\n",
    "                    check_count+=1\n",
    "                    \n",
    "    #print(f\"Mag for {acid}: {amino_acid_magnitude[acid]}\")\n",
    "# check \n",
    "for acid, mag in amino_acid_magnitude.items():\n",
    "    for acid_, mag_ in amino_acid_magnitude.items():\n",
    "        if acid!=acid_:\n",
    "            assert abs(mag - mag_)>4, f\"{mag}, {mag_}\"\n",
    "set(amino_acid_magnitude.values())"
   ]
  },
  {
   "cell_type": "code",
   "execution_count": 25,
   "metadata": {},
   "outputs": [],
   "source": [
    "# gray pattern \n",
    "\n",
    "# create all possible colors\n",
    "num_possible_colors = len(string.ascii_uppercase)*4\n",
    "possible_colors = []\n",
    "for i in range(num_possible_colors):\n",
    "    flag = True\n",
    "    while flag:\n",
    "        color_ = random.choice(list(range(1,200))+list(range(260,500)))\n",
    "        if color_ not in possible_colors:\n",
    "            possible_colors.append(color_)\n",
    "            flag=False\n",
    "\n",
    "# define color pallets for each amino acids\n",
    "color_pallet_map = {}\n",
    "max_num_colors = list(range(1,6))\n",
    "for acid in string.ascii_uppercase:\n",
    "    acid_color_pallet = [(255, 255, 255)]\n",
    "    num_colors = random.choice(max_num_colors)\n",
    "    for i in range(num_colors):\n",
    "        color = random.choice(possible_colors)\n",
    "        color_index = possible_colors.index(color)\n",
    "        del possible_colors[color_index]\n",
    "        acid_color_pallet.append((color,color,color))\n",
    "    acid_color_pallet.append((0,0,0))\n",
    "    color_pallet_map[acid] = acid_color_pallet\n",
    "    \n",
    "# check no two amino acids has same color\n",
    "for acid, color_list in color_pallet_map.items():\n",
    "    for acid_, color_list_ in color_pallet_map.items():\n",
    "        if acid!=acid_:\n",
    "            assert color_list !=color_list_"
   ]
  },
  {
   "cell_type": "code",
   "execution_count": 28,
   "metadata": {},
   "outputs": [],
   "source": [
    "seq = ''.join([random.choice(list(string.ascii_uppercase)) for i in range(300)])\n"
   ]
  },
  {
   "cell_type": "code",
   "execution_count": 84,
   "metadata": {},
   "outputs": [
    {
     "data": {
      "image/png": "[encoded data removed]",
      "text/plain": [
       "<PIL.Image.Image image mode=RGB size=300x150 at 0x7F9243FC8C50>"
      ]
     },
     "execution_count": 84,
     "metadata": {},
     "output_type": "execute_result"
    }
   ],
   "source": [
    "img_h = max(max_num_colors)*30\n",
    "img_w = len(seq)\n",
    "img_arr = np.zeros((img_h, img_w,3))\n",
    "\n",
    "for col_index in range(0, len(seq)):\n",
    "    acid = seq[col_index]\n",
    "    color_pallet = color_pallet_map[acid]\n",
    "    num_colors = len(color_pallet)\n",
    "    num_row_pixels_per_color = int(round(img_h/num_colors))\n",
    "    color_index=0\n",
    "    for i in range(num_colors):\n",
    "        if i==0:\n",
    "            assert color_pallet[color_index]==(255, 255, 255)\n",
    "        img_arr[i*num_row_pixels_per_color:i*num_row_pixels_per_color*2,col_index,:]=color_pallet[color_index]\n",
    "        color_index = color_index+1\n",
    "\n",
    "Image.fromarray(img_arr.astype(np.uint8))"
   ]
  },
  {
   "cell_type": "code",
   "execution_count": 158,
   "metadata": {},
   "outputs": [
    {
     "data": {
      "text/plain": [
       "{'A': [18, 82],\n",
       " 'B': [58, 42],\n",
       " 'C': [31, 69],\n",
       " 'D': [82, 18],\n",
       " 'E': [10, 90],\n",
       " 'F': [72, 28],\n",
       " 'G': [43, 57],\n",
       " 'H': [12, 88],\n",
       " 'I': [22, 78],\n",
       " 'J': [30, 70],\n",
       " 'K': [26, 74],\n",
       " 'L': [69, 31],\n",
       " 'M': [68, 32],\n",
       " 'N': [56, 44],\n",
       " 'O': [36, 64],\n",
       " 'P': [62, 38],\n",
       " 'Q': [53, 47],\n",
       " 'R': [71, 29],\n",
       " 'S': [49, 51],\n",
       " 'T': [64, 36],\n",
       " 'U': [54, 46],\n",
       " 'V': [50, 50],\n",
       " 'W': [90, 10],\n",
       " 'X': [15, 85],\n",
       " 'Y': [47, 53],\n",
       " 'Z': [40, 60]}"
      ]
     },
     "execution_count": 158,
     "metadata": {},
     "output_type": "execute_result"
    }
   ],
   "source": [
    "min_prop=10\n",
    "sum_prop = 100\n",
    "possible_props = list(range(0,100))\n",
    "choosen_props = []\n",
    "acid_color_prop_maps = {}\n",
    "for i in range(len(string.ascii_uppercase)):\n",
    "    flag=True\n",
    "    color_props = []\n",
    "    acid = string.ascii_uppercase[i]\n",
    "    #print(acid)\n",
    "    while flag:\n",
    "        first_prop = random.choice(possible_props)\n",
    "        second_prop = random.choice(possible_props)\n",
    "        third_prop = random.choice(possible_props)\n",
    "#         if first_prop +  second_prop + third_prop == 100 and (first_prop, second_prop, third_prop) not in choosen_props and min(first_prop, second_prop, third_prop)>=10 and first_prop<50 and third_prop<50:\n",
    "        if first_prop +  second_prop  == 100 and (first_prop, second_prop) not in choosen_props and min(first_prop, second_prop)>=10:\n",
    "        \n",
    "            flag=False\n",
    "            assert (first_prop, second_prop) not in choosen_props\n",
    "            choosen_props.append((first_prop, second_prop))\n",
    "            acid_color_prop_maps[acid] = [first_prop, second_prop]\n",
    "\n",
    "acid_color_prop_maps"
   ]
  },
  {
   "cell_type": "code",
   "execution_count": 166,
   "metadata": {},
   "outputs": [],
   "source": [
    "seq = ''.join([random.choice(string.ascii_uppercase) for i in range(1000)])\n",
    "seq1='SFDPSGTYHFTTRLPVKGQTSIDSPDLAYYEAGQSVYYDKVVTAGGYTWLSYLSFSGNRR'\n",
    "seq2 = 'SIPSQGNYVFQETTPVKNAASMSSPTQFNFDKGDKVFYDKVLEADGHQWISYVSYSGIRR'\n",
    "\n",
    "def func(seq):\n",
    "    acid_width = 1\n",
    "    img_h = 150\n",
    "    img_w = len(seq)*acid_width\n",
    "    img = np.full((img_h, img_w, 3),(500,500,500))\n",
    "    for index,acid in enumerate(seq):\n",
    "        color_props = acid_color_prop_maps[acid]\n",
    "        white = (255,255,255)\n",
    "        black = (0,0,0)\n",
    "#         gray = (90,90,90)\n",
    "        first_split = round(int(img_h*color_props[0]*0.01))\n",
    "#         second_split = round(int(img_h*color_props[1]*0.01))\n",
    "        #print(first_split, second_split)\n",
    "        img[:first_split, index*acid_width:index*acid_width*2, :] = white\n",
    "#         img[first_split:first_split+second_split, index*acid_width:index*acid_width*2, :] = gray\n",
    "        img[first_split:, index*acid_width:index*acid_width*2, :] = black\n",
    "    return img"
   ]
  },
  {
   "cell_type": "code",
   "execution_count": 167,
   "metadata": {},
   "outputs": [
    {
     "data": {
      "image/png": "[encoded data removed]",
      "text/plain": [
       "<PIL.Image.Image image mode=RGB size=60x150 at 0x7F9243F9FDD0>"
      ]
     },
     "execution_count": 167,
     "metadata": {},
     "output_type": "execute_result"
    }
   ],
   "source": [
    "Image.fromarray(func(seq1).astype(np.uint8))"
   ]
  },
  {
   "cell_type": "code",
   "execution_count": 168,
   "metadata": {},
   "outputs": [
    {
     "data": {
      "image/png": "[encoded data removed]",
      "text/plain": [
       "<PIL.Image.Image image mode=RGB size=60x150 at 0x7F9243FC8E50>"
      ]
     },
     "execution_count": 168,
     "metadata": {},
     "output_type": "execute_result"
    }
   ],
   "source": [
    "Image.fromarray(func(seq2).astype(np.uint8))"
   ]
  },
  {
   "cell_type": "code",
   "execution_count": 145,
   "metadata": {},
   "outputs": [
    {
     "data": {
      "image/png": "[encoded data removed]",
      "text/plain": [
       "<PIL.Image.Image image mode=RGB size=1000x150 at 0x7F9243FD8310>"
      ]
     },
     "execution_count": 145,
     "metadata": {},
     "output_type": "execute_result"
    }
   ],
   "source": [
    "Image.fromarray(img.astype(np.uint8))"
   ]
  },
  {
   "cell_type": "code",
   "execution_count": null,
   "metadata": {},
   "outputs": [],
   "source": []
  },
  {
   "cell_type": "code",
   "execution_count": 136,
   "metadata": {},
   "outputs": [
    {
     "data": {
      "image/png": "[encoded data removed]",
      "text/plain": [
       "<PIL.Image.Image image mode=RGB size=1000x100 at 0x7F9243F8AD50>"
      ]
     },
     "execution_count": 136,
     "metadata": {},
     "output_type": "execute_result"
    }
   ],
   "source": [
    "Image.fromarray(img.astype(np.uint8))"
   ]
  },
  {
   "cell_type": "code",
   "execution_count": 140,
   "metadata": {},
   "outputs": [
    {
     "data": {
      "image/png": "[encoded data removed]",
      "text/plain": [
       "<PIL.Image.Image image mode=RGB size=3000x150 at 0x7F9243FA9D50>"
      ]
     },
     "execution_count": 140,
     "metadata": {},
     "output_type": "execute_result"
    }
   ],
   "source": [
    "Image.fromarray(img.astype(np.uint8))"
   ]
  },
  {
   "cell_type": "code",
   "execution_count": 142,
   "metadata": {},
   "outputs": [
    {
     "data": {
      "image/png": "[encoded data removed]",
      "text/plain": [
       "<PIL.Image.Image image mode=RGB size=10000x150 at 0x7F9243FA9B90>"
      ]
     },
     "execution_count": 142,
     "metadata": {},
     "output_type": "execute_result"
    }
   ],
   "source": [
    "Image.fromarray(img.astype(np.uint8))"
   ]
  },
  {
   "cell_type": "code",
   "execution_count": 128,
   "metadata": {},
   "outputs": [
    {
     "data": {
      "image/png": "[encoded data removed]",
      "text/plain": [
       "<PIL.Image.Image image mode=RGB size=1000x100 at 0x7F922921E890>"
      ]
     },
     "execution_count": 128,
     "metadata": {},
     "output_type": "execute_result"
    }
   ],
   "source": [
    "Image.fromarray(img.astype(np.uint8))"
   ]
  },
  {
   "cell_type": "code",
   "execution_count": 114,
   "metadata": {},
   "outputs": [
    {
     "data": {
      "text/plain": [
       "array([  0.,   0.,   0.,   0.,   0.,   0.,   0.,   0.,   0.,   0., 255.,\n",
       "       255., 255., 255., 255., 255., 255., 255., 255., 255., 255., 255.,\n",
       "       255., 255., 255., 255., 255., 255., 255., 255., 255., 255., 255.,\n",
       "       255., 255., 255., 255., 255., 255., 255., 255., 255., 255., 255.,\n",
       "       255., 255., 255., 255., 255., 255., 255., 255., 255., 255., 255.,\n",
       "       255., 255., 255., 255., 255., 255., 255., 255., 255., 255., 255.,\n",
       "       255., 255., 255., 255., 255., 255., 255., 255., 255., 255., 255.,\n",
       "       255., 255., 255., 255., 255., 255., 255., 255., 255., 255., 255.,\n",
       "       255., 255., 255., 255., 255., 255., 255., 255., 255., 255., 255.,\n",
       "       255., 255., 255., 255., 255., 255., 255., 255., 255., 255., 255.])"
      ]
     },
     "execution_count": 114,
     "metadata": {},
     "output_type": "execute_result"
    }
   ],
   "source": [
    "img[0,:,1]"
   ]
  },
  {
   "cell_type": "code",
   "execution_count": null,
   "metadata": {},
   "outputs": [],
   "source": []
  },
  {
   "cell_type": "code",
   "execution_count": null,
   "metadata": {},
   "outputs": [],
   "source": []
  }
 ],
 "metadata": {
  "kernelspec": {
   "display_name": "detectron2",
   "language": "python",
   "name": "detectron2"
  },
  "language_info": {
   "codemirror_mode": {
    "name": "ipython",
    "version": 3
   },
   "file_extension": ".py",
   "mimetype": "text/x-python",
   "name": "python",
   "nbconvert_exporter": "python",
   "pygments_lexer": "ipython3",
   "version": "3.7.9"
  }
 },
 "nbformat": 4,
 "nbformat_minor": 4
}
